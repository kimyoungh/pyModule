{
 "cells": [
  {
   "cell_type": "code",
   "execution_count": 1,
   "metadata": {},
   "outputs": [
    {
     "name": "stdout",
     "output_type": "stream",
     "text": [
      "/home/kimyoungh/Dropbox/pyModule/quantM\n"
     ]
    }
   ],
   "source": [
    "cd .."
   ]
  },
  {
   "cell_type": "code",
   "execution_count": 3,
   "metadata": {},
   "outputs": [
    {
     "name": "stdout",
     "output_type": "stream",
     "text": [
      "\r\n",
      "PackageNotInstalledError: Package is not installed in prefix.\r\n",
      "  prefix: /home/kimyoungh/anaconda3\r\n",
      "  package name: y\r\n",
      "\r\n",
      "\r\n"
     ]
    }
   ],
   "source": [
    "!conda update cython y"
   ]
  },
  {
   "cell_type": "code",
   "execution_count": 4,
   "metadata": {},
   "outputs": [
    {
     "name": "stdout",
     "output_type": "stream",
     "text": [
      "합계 1576\r\n",
      "drwxrwxr-x 4 kimyoungh kimyoungh    4096  4월 15 14:37 \u001b[0m\u001b[01;34mnotebook\u001b[0m/\r\n",
      "-rw-rw-r-- 1 kimyoungh kimyoungh 1453696  4월 15 14:35 quantM.c\r\n",
      "-rw-rw-r-- 1 kimyoungh kimyoungh   27435  4월 15 14:34 quantM.pyx\r\n",
      "drwxrwxr-x 2 kimyoungh kimyoungh    4096  4월  8 18:09 \u001b[01;34mlogs\u001b[0m/\r\n",
      "drwxrwxr-x 2 kimyoungh kimyoungh    4096  2월 26 22:43 \u001b[01;34mquantM\u001b[0m/\r\n",
      "drwxrwxr-x 8 kimyoungh kimyoungh    4096  2월 26 22:15 \u001b[01;34mbuild\u001b[0m/\r\n",
      "-rw-rw-r-- 1 kimyoungh kimyoungh       0  2월 22 23:34 untitled.txt\r\n",
      "-rw-rw-r-- 1 kimyoungh kimyoungh   26238  2월 22 19:15 quantM_2.pyx\r\n",
      "-rw-rw-r-- 1 kimyoungh kimyoungh   26835  2월 22 17:58 quantM_backup.pyx\r\n",
      "-rw-rw-r-- 1 kimyoungh kimyoungh    4398  9월 29  2017 \u001b[01;31mquantM.zip\u001b[0m\r\n",
      "-rw-rw-r-- 1 kimyoungh kimyoungh     172  9월  9  2017 setup.py\r\n"
     ]
    }
   ],
   "source": [
    "ls -tl"
   ]
  },
  {
   "cell_type": "code",
   "execution_count": null,
   "metadata": {},
   "outputs": [],
   "source": [
    "ls"
   ]
  },
  {
   "cell_type": "code",
   "execution_count": null,
   "metadata": {},
   "outputs": [],
   "source": []
  }
 ],
 "metadata": {
  "kernelspec": {
   "display_name": "Python 3",
   "language": "python",
   "name": "python3"
  },
  "language_info": {
   "codemirror_mode": {
    "name": "ipython",
    "version": 3
   },
   "file_extension": ".py",
   "mimetype": "text/x-python",
   "name": "python",
   "nbconvert_exporter": "python",
   "pygments_lexer": "ipython3",
   "version": "3.6.5"
  }
 },
 "nbformat": 4,
 "nbformat_minor": 2
}
